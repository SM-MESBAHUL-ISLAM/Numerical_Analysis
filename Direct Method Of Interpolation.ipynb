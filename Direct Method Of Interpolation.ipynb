{
 "cells": [
  {
   "cell_type": "markdown",
   "id": "0ae4b487",
   "metadata": {},
   "source": [
    "# Direct Method of Interpolation:\n",
    "**Library function used:**  \n",
    "sympy.symbols()  \n",
    "[sympy.solve()](https://www.geeksforgeeks.org/python-sympy-solve-method/)"
   ]
  },
  {
   "cell_type": "code",
   "execution_count": 23,
   "id": "6a0be4a8",
   "metadata": {
    "scrolled": true
   },
   "outputs": [
    {
     "name": "stdout",
     "output_type": "stream",
     "text": [
      "Order of Polynomial\t\t   :Linear \t\t Quadratic \t\t Cubic\n",
      "y(16.000000)\t\t\t   :393.694000\t\t 392.187600 \t\t 392.057168\n",
      "Absolute Relative approximate error:---------\t\t 0.38263 \t\t 0.03326\n"
     ]
    }
   ],
   "source": [
    "import sympy as sy\n",
    "\n",
    "def linear_interpolation(x_list,y_list,xf):\n",
    "    x,a0,a1 = sy.symbols('x a0 a1')\n",
    "    \n",
    "    f = lambda x: a0 + a1*x\n",
    "    eq = lambda a0,a1,x: a0 + a1*x\n",
    "    \n",
    "    for i in range(0,len(x_list)):\n",
    "        if x_list[i] > xf:\n",
    "            nearbyPoint = i\n",
    "            break\n",
    "    px1 = x_list[nearbyPoint-1]\n",
    "    px2 = x_list[nearbyPoint]\n",
    "    py1 = y_list[nearbyPoint-1]\n",
    "    py2 = y_list[nearbyPoint]\n",
    "    \n",
    "    sol = sy.solve((f(px1)-py1,f(px2)-py2),(a0,a1))\n",
    "    result = eq(sol[a0],sol[a1],xf)\n",
    "    return result\n",
    "\n",
    "def quadratic_interpolation(x_list,y_list,xf):\n",
    "    x,a0,a1,a2 = sy.symbols('x a0 a1 a2')\n",
    "    \n",
    "    f = lambda x: a0 + a1*x + a2*(x**2)\n",
    "    eq = lambda a0,a1,a2,x: a0 + a1*x + a2*(x**2)\n",
    "    \n",
    "    for i in range(0,len(x_list)):\n",
    "        if x_list[i] > xf:\n",
    "            nearbyPoint = i\n",
    "            break\n",
    "            \n",
    "    px1 = x_list[nearbyPoint-2]\n",
    "    px2 = x_list[nearbyPoint-1]\n",
    "    px3 = x_list[nearbyPoint]\n",
    "    py1 = y_list[nearbyPoint-2]\n",
    "    py2 = y_list[nearbyPoint-1]\n",
    "    py3 = y_list[nearbyPoint]\n",
    "    \n",
    "    sol = sy.solve((f(px1)-py1,f(px2)-py2,f(px3)-py3),(a0,a1,a2))\n",
    "    result = eq(sol[a0],sol[a1],sol[a2],xf)\n",
    "    return result\n",
    "\n",
    "\n",
    "def cubic_interpolation(x_list,y_list,xf):\n",
    "    x,a0,a1,a2,a3 = sy.symbols('x a0 a1 a2 a3')\n",
    "    \n",
    "    f = lambda x: a0 + a1*x + a2*(x**2) + a3*(x**3)\n",
    "    eq = lambda a0,a1,a2,a3,x: a0 + a1*x + a2*(x**2) + a3*(x**3)\n",
    "    \n",
    "    for i in range(0,len(x_list)):\n",
    "        if x_list[i] > xf:\n",
    "            nearbyPoint = i\n",
    "            break\n",
    "    px1 = x_list[nearbyPoint-2]\n",
    "    px2 = x_list[nearbyPoint-1]\n",
    "    px3 = x_list[nearbyPoint]\n",
    "    px4 = x_list[nearbyPoint+1]\n",
    "    \n",
    "    py1 = y_list[nearbyPoint-2]\n",
    "    py2 = y_list[nearbyPoint-1]\n",
    "    py3 = y_list[nearbyPoint]\n",
    "    py4 = y_list[nearbyPoint+1]\n",
    "    \n",
    "    sol = sy.solve((f(px1)-py1,f(px2)-py2,f(px3)-py3,f(px4)-py4),(a0,a1,a2,a3))\n",
    "    result = eq(sol[a0],sol[a1],sol[a2],sol[a3],xf)\n",
    "    return result\n",
    "\n",
    "def comparison(x_list,y_list,xf):\n",
    "    ans_of_linear = linear_interpolation(x_list,y_list,xf)\n",
    "    ans_of_quadratic = quadratic_interpolation(x_list,y_list,xf)\n",
    "    ans_of_cubic = cubic_interpolation(x_list,y_list,xf)\n",
    "    \n",
    "    # comparison table\n",
    "    print(\"Order of Polynomial\\t\\t   :Linear \\t\\t Quadratic \\t\\t Cubic\")\n",
    "    e2 = (abs(ans_of_linear - ans_of_quadratic)/ans_of_linear)*100\n",
    "    e3 = (abs(ans_of_quadratic - ans_of_cubic)/ans_of_quadratic)*100\n",
    "    \n",
    "    print(\"y(%f)\\t\\t\\t   :%f\\t\\t %f \\t\\t %f\"%(xf,ans_of_linear,ans_of_quadratic,ans_of_cubic))\n",
    "    print(\"Absolute Relative approximate error:---------\\t\\t %.5f \\t\\t %.5f\"%(e2,e3))\n",
    "\n",
    "def DirectInterpolation():\n",
    "    #this portion is for user input:\n",
    "#     x_list = list(map(float,input(\"Enter the values of x: \").strip().split()))\n",
    "#     y_list = list(map(float,input(\"Enter the values of y: \").strip().split()))\n",
    "#     xf = float(input(\"Enter the calculation point xf: \"))\n",
    "    x_list = [0,10,15,20,22.5,30]\n",
    "    y_list = [0,227.04,362.78,517.35,602.97,901.67]\n",
    "    xf = 16\n",
    "    \n",
    "    comparison(x_list,y_list,xf)\n",
    "    \n",
    "DirectInterpolation()"
   ]
  },
  {
   "cell_type": "markdown",
   "id": "a6487908",
   "metadata": {},
   "source": [
    "**Input**  \n",
    "x values = 0 10 15 20 22.5 30  \n",
    "y values = 0 227.04 362.78 517.35 602.97 901.67  \n",
    "xf = 16"
   ]
  },
  {
   "cell_type": "code",
   "execution_count": null,
   "id": "43881c4e",
   "metadata": {},
   "outputs": [],
   "source": []
  }
 ],
 "metadata": {
  "kernelspec": {
   "display_name": "Python [conda env:NA] *",
   "language": "python",
   "name": "conda-env-NA-py"
  },
  "language_info": {
   "codemirror_mode": {
    "name": "ipython",
    "version": 3
   },
   "file_extension": ".py",
   "mimetype": "text/x-python",
   "name": "python",
   "nbconvert_exporter": "python",
   "pygments_lexer": "ipython3",
   "version": "3.9.15"
  }
 },
 "nbformat": 4,
 "nbformat_minor": 5
}
