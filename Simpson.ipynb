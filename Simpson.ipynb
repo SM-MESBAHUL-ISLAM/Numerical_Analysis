{
 "cells": [
  {
   "cell_type": "markdown",
   "id": "2dec1940",
   "metadata": {},
   "source": [
    "## Basis of Simpson's 1/3rd Rule (2 segment simpson):\n",
    "**Library Function**  \n",
    "sympy.sqrt()  \n",
    "[sympy.integrate documentation](https://docs.sympy.org/latest/modules/integrals/integrals.html)  \n",
    "[sympy.integrate() with limit](https://www.geeksforgeeks.org/python-sympy-integrate-using-limits/)\n",
    "### Code :"
   ]
  },
  {
   "cell_type": "code",
   "execution_count": 4,
   "id": "374b9179",
   "metadata": {},
   "outputs": [
    {
     "name": "stdout",
     "output_type": "stream",
     "text": [
      "The area using 2 segment simpson is:  12.774895811092932\n",
      "The exact_solution is :  12.7559743799220\n"
     ]
    }
   ],
   "source": [
    "import sympy as sy\n",
    "import math\n",
    "\n",
    "def basis_of_simpson():\n",
    "    f = lambda x:math.sqrt(1+x**2)\n",
    "    f1 = lambda x:sy.sqrt(1+x**2)\n",
    "    lower_limit = a = 1\n",
    "    upper_limit = b = 5\n",
    "    \n",
    "    h = (b-a)/2\n",
    "    \n",
    "    result = (h/3)*(f(a) + (4*f((a+b)/2)) + f(b))\n",
    "    \n",
    "    x = sy.Symbol('x')\n",
    "    exact_solution = sy.integrate(f1(x),(x,a,b)).evalf()\n",
    "    \n",
    "    print(\"The area using 2 segment simpson is: \",result)\n",
    "    print(\"The exact_solution is : \",exact_solution)\n",
    "basis_of_simpson()"
   ]
  },
  {
   "cell_type": "markdown",
   "id": "185822cf",
   "metadata": {},
   "source": [
    "## Multiple Segment Simpson :\n",
    "**Library Function**  \n",
    "sympy.sqrt()  \n",
    "[sympy.integrate documentation](https://docs.sympy.org/latest/modules/integrals/integrals.html)  \n",
    "[sympy.integrate() with limit](https://www.geeksforgeeks.org/python-sympy-integrate-using-limits/)\n",
    "### Code :"
   ]
  },
  {
   "cell_type": "code",
   "execution_count": 7,
   "id": "d4b4d823",
   "metadata": {},
   "outputs": [
    {
     "name": "stdout",
     "output_type": "stream",
     "text": [
      "The area using multiple segment simpson is :  12.758160936257479\n",
      "The exact solution is :  12.7559743799220\n"
     ]
    }
   ],
   "source": [
    "import sympy as sy\n",
    "import math\n",
    "\n",
    "def multi_segment_simpson():\n",
    "    f = lambda x:math.sqrt(1+x**2)\n",
    "    f1 = lambda x:sy.sqrt(1+x**2)\n",
    "    lower_limit = a = 1\n",
    "    upper_limit = b = 5\n",
    "    segment = n = 4\n",
    "    \n",
    "    h = (b-a)/n\n",
    "    \n",
    "    area = f(a) + f(b)\n",
    "    \n",
    "    for i in range(1,n):\n",
    "        xi = a + i*h\n",
    "        if i%2==0:\n",
    "            area += 2*f(xi)\n",
    "        else:\n",
    "            area += 4*f(xi)\n",
    "    area = area * (h/3)\n",
    "    \n",
    "    x = sy.Symbol('x')\n",
    "    exact_solution = sy.integrate(f1(x),(x,a,b)).evalf()\n",
    "    \n",
    "    print(\"The area using multiple segment simpson is : \",area)\n",
    "    print(\"The exact solution is : \",exact_solution)\n",
    "\n",
    "multi_segment_simpson()"
   ]
  },
  {
   "cell_type": "code",
   "execution_count": null,
   "id": "624387da",
   "metadata": {},
   "outputs": [],
   "source": []
  }
 ],
 "metadata": {
  "kernelspec": {
   "display_name": "Python [conda env:NA] *",
   "language": "python",
   "name": "conda-env-NA-py"
  },
  "language_info": {
   "codemirror_mode": {
    "name": "ipython",
    "version": 3
   },
   "file_extension": ".py",
   "mimetype": "text/x-python",
   "name": "python",
   "nbconvert_exporter": "python",
   "pygments_lexer": "ipython3",
   "version": "3.9.15"
  }
 },
 "nbformat": 4,
 "nbformat_minor": 5
}
