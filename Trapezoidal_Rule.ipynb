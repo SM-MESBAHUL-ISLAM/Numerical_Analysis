{
 "cells": [
  {
   "cell_type": "markdown",
   "id": "0815ca98",
   "metadata": {},
   "source": [
    "# <span style=\"color:blue\">Trapezoidal Rule :</style>\n",
    "**Resources:**  \n",
    "[Concept](https://byjus.com/trapezoidal-rule-formula/#:~:text=The%20trapezoidal%20rule%20is%20to,as%20an%20nth%20order%20polynomial.)  \n",
    "[Integral Calculator](https://www.integral-calculator.com/)  "
   ]
  },
  {
   "cell_type": "markdown",
   "id": "afe6ffd5",
   "metadata": {},
   "source": [
    "## Single Segment Trapezoidal Rule :\n",
    "**Library Function**  \n",
    "sympy.sqrt()  \n",
    "[sympy.integrate documentation](https://docs.sympy.org/latest/modules/integrals/integrals.html)  \n",
    "[sympy.integrate() with limit](https://www.geeksforgeeks.org/python-sympy-integrate-using-limits/)\n",
    "### Code :"
   ]
  },
  {
   "cell_type": "code",
   "execution_count": 42,
   "id": "0397060c",
   "metadata": {},
   "outputs": [
    {
     "name": "stdout",
     "output_type": "stream",
     "text": [
      "Solution using single segment trapezoidal rule:  13.026466151931759\n",
      "The exact result is :  12.7559743799220\n"
     ]
    }
   ],
   "source": [
    "import sympy as sy\n",
    "import math\n",
    "def single_segment_trapezoidal():\n",
    "#     f = lambda x: 7 - x**2\n",
    "\n",
    "    f = lambda x: math.sqrt(1+x**2)\n",
    "    f1 = lambda x: sy.sqrt(1+x**2)\n",
    "\n",
    "#     f = lambda x: math.exp(2*x)\n",
    "#     f1 = lambda x:sy.exp(2*x)\n",
    "\n",
    "    area = lambda a,b: (b-a)*((f(a)+f(b))/2)\n",
    "    a = 1\n",
    "    b = 5\n",
    "    ans = area(a,b)\n",
    "    x = sy.Symbol('x')\n",
    "    exact_solution = sy.integrate(f1(x),(x,a,b)).evalf() # here evalf() function is used for actual float number\n",
    "    print(\"Solution using single segment trapezoidal rule: \",ans)\n",
    "    print(\"The exact result is : \",exact_solution)\n",
    "single_segment_trapezoidal()"
   ]
  },
  {
   "cell_type": "markdown",
   "id": "24788d05",
   "metadata": {},
   "source": [
    "## Multiple Segment Trapezoidal Rule :\n",
    "**Resources:**  \n",
    "[Concept](https://byjus.com/trapezoidal-rule-formula/#:~:text=The%20trapezoidal%20rule%20is%20to,as%20an%20nth%20order%20polynomial.)  \n",
    "[Integral Calculator](https://www.integral-calculator.com/)  "
   ]
  },
  {
   "cell_type": "code",
   "execution_count": 45,
   "id": "f40465ac",
   "metadata": {},
   "outputs": [
    {
     "name": "stdout",
     "output_type": "stream",
     "text": [
      "The ans using Multiple segment trapezoidal rule is :  12.761626507927359\n",
      "The exact solution is:  12.7559743799220\n"
     ]
    }
   ],
   "source": [
    "import sympy as sy\n",
    "import math\n",
    "def multi_segment_trapezoidal():\n",
    "    f = lambda x:math.sqrt(1+x**2)\n",
    "    f1 = lambda x:sy.sqrt(1+x**2)\n",
    "    \n",
    "    lower_limit = 1\n",
    "    upper_limit = 5\n",
    "    segment = 8\n",
    "    \n",
    "    n = segment\n",
    "    a = lower_limit\n",
    "    b = upper_limit\n",
    "    h = (b-a)/n\n",
    "    \n",
    "    p1 = (h/2) * f(a)\n",
    "    p2 = (h/2) * f(b)\n",
    "    p = 0\n",
    "    for i in range(1,n):\n",
    "        p += f(a + i*h)\n",
    "    p = p*h\n",
    "    ans = p1 + p + p2\n",
    "    \n",
    "    x = sy.Symbol('x')\n",
    "    exact_solution = sy.integrate(f1(x),(x,a,b)).evalf()\n",
    "    \n",
    "    print(\"The ans using Multiple segment trapezoidal rule is : \",ans)\n",
    "    print(\"The exact solution is: \",exact_solution)\n",
    "multi_segment_trapezoidal()"
   ]
  },
  {
   "cell_type": "markdown",
   "id": "f2408efc",
   "metadata": {},
   "source": [
    "If we can't integrate the function using **sympy** library we have to use **scipy** library..  \n",
    "**Library Function :**  \n",
    "scipy.integrate.quad()  \n",
    "scipy.integrate.cumulative_trapezoid()  \n",
    "**Resources:**  \n",
    "[Integration in PYTHON(Symbolic and Numeric)](https://www.youtube.com/watch?v=2I44Y9hfQ4Q&ab_channel=Mr.PSolver)"
   ]
  },
  {
   "cell_type": "code",
   "execution_count": 51,
   "id": "c05eec1c",
   "metadata": {},
   "outputs": [
    {
     "name": "stdout",
     "output_type": "stream",
     "text": [
      "The ans using Multiple segment trapezoidal rule is :  50.53686594740468\n",
      "The exact solution is:  246.590293505238\n"
     ]
    }
   ],
   "source": [
    "import sympy as sy\n",
    "import numpy as np\n",
    "from scipy.integrate import quad\n",
    "import math\n",
    "def multi_segment_trapezoidal():\n",
    "    f = lambda x:300*x / (1+math.exp(x))\n",
    "    f1 = lambda x: 300*x/(1+np.exp(x))\n",
    "    \n",
    "    lower_limit = 0\n",
    "    upper_limit = 10\n",
    "    segment = 2\n",
    "    \n",
    "    n = segment\n",
    "    a = lower_limit\n",
    "    b = upper_limit\n",
    "    h = (b-a)/n\n",
    "    \n",
    "    p1 = (h/2) * f(a)\n",
    "    p2 = (h/2) * f(b)\n",
    "    p = 0\n",
    "    for i in range(1,n):\n",
    "        p += f(a + i*h)\n",
    "    p = p*h\n",
    "    ans = p1 + p + p2\n",
    "    \n",
    "    exact_solution = quad(f1,a,b)[0] # quad will return an array like this array([exact_ans,approximate_error])\n",
    "    \n",
    "    print(\"The ans using Multiple segment trapezoidal rule is : \",ans)\n",
    "    print(\"The exact solution is: \",exact_solution)\n",
    "multi_segment_trapezoidal()"
   ]
  }
 ],
 "metadata": {
  "kernelspec": {
   "display_name": "Python [conda env:NA] *",
   "language": "python",
   "name": "conda-env-NA-py"
  },
  "language_info": {
   "codemirror_mode": {
    "name": "ipython",
    "version": 3
   },
   "file_extension": ".py",
   "mimetype": "text/x-python",
   "name": "python",
   "nbconvert_exporter": "python",
   "pygments_lexer": "ipython3",
   "version": "3.9.15"
  }
 },
 "nbformat": 4,
 "nbformat_minor": 5
}
